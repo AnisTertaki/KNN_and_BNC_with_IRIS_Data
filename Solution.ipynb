{
 "cells": [
  {
   "cell_type": "markdown",
   "id": "cf609177",
   "metadata": {},
   "source": [
    "# Plus Proche Voisin\n"
   ]
  },
  {
   "cell_type": "markdown",
   "id": "a21339b8",
   "metadata": {},
   "source": [
    "## Question 01 - 02:"
   ]
  },
  {
   "cell_type": "code",
   "execution_count": 1,
   "id": "3f221d20",
   "metadata": {},
   "outputs": [],
   "source": [
    "import numpy as np\n",
    "from sklearn import datasets"
   ]
  },
  {
   "cell_type": "code",
   "execution_count": 2,
   "id": "63a2b223",
   "metadata": {},
   "outputs": [],
   "source": [
    "from sklearn.metrics.pairwise import euclidean_distances\n",
    "\n",
    "def PPV(X, Y):\n",
    "    num_samples = len(X)\n",
    "    predictions = np.zeros(num_samples, dtype=int)\n",
    "\n",
    "    for i in range(num_samples):\n",
    "        # Sélectionner la donnée de test\n",
    "        x_test = X[i]\n",
    "\n",
    "        # Calculer les distances euclidiennes entre la donnée de test et toutes les autres données\n",
    "        distances = euclidean_distances(X, [x_test])\n",
    "        \n",
    "        # Exclure la distance de la donnée de test à elle-même\n",
    "        distances[i] = np.inf\n",
    "        \n",
    "        # Trouver l'indice du plus proche voisin\n",
    "        nearest_neighbor_index = np.argmin(distances)\n",
    "\n",
    "        # Assigner le label du plus proche voisin comme prédiction\n",
    "        predictions[i] = Y[nearest_neighbor_index]\n",
    "      \n",
    "    accuracy = np.mean(predictions == Y)\n",
    "    return predictions, accuracy"
   ]
  },
  {
   "cell_type": "markdown",
   "id": "56d4b235",
   "metadata": {},
   "source": [
    "## Question 03 :"
   ]
  },
  {
   "cell_type": "code",
   "execution_count": 3,
   "id": "022fa15a",
   "metadata": {},
   "outputs": [
    {
     "name": "stdout",
     "output_type": "stream",
     "text": [
      "Accuracy: 96.00%\n"
     ]
    }
   ],
   "source": [
    "iris = datasets.load_iris()\n",
    "X = iris.data\n",
    "Y = iris.target\n",
    "\n",
    "predictions, accuracy = PPV(X, Y)\n",
    "print(f\"Accuracy: {accuracy * 100:.2f}%\")"
   ]
  },
  {
   "cell_type": "markdown",
   "id": "62fc5360",
   "metadata": {},
   "source": [
    "## Question 04 :"
   ]
  },
  {
   "cell_type": "code",
   "execution_count": 4,
   "id": "1c3bab94",
   "metadata": {},
   "outputs": [],
   "source": [
    "from sklearn import neighbors\n",
    "from sklearn.model_selection import LeaveOneOut\n",
    "\n",
    "def PPV_KNeighnors(X, Y, k):\n",
    "    loo = LeaveOneOut()\n",
    "    predictions = []\n",
    "\n",
    "    for train_index, test_index in loo.split(X):\n",
    "        X_train, X_test = X[train_index], X[test_index]\n",
    "        Y_train, Y_test = Y[train_index], Y[test_index]\n",
    "\n",
    "        # Créer un classifieur K Plus Proches Voisins avec k=1\n",
    "        knn = neighbors.KNeighborsClassifier(n_neighbors=k)\n",
    "        knn.fit(X_train, Y_train)\n",
    "\n",
    "        # Prédire l'étiquette pour la donnée de test\n",
    "        prediction = knn.predict(X_test)\n",
    "        predictions.append(prediction[0])\n",
    "    \n",
    "    accuracy = np.mean(np.array(predictions) == Y)\n",
    "    return np.array(predictions), accuracy"
   ]
  },
  {
   "cell_type": "markdown",
   "id": "c9c9d058",
   "metadata": {},
   "source": [
    "## k = 1"
   ]
  },
  {
   "cell_type": "code",
   "execution_count": 5,
   "id": "1f805ab8",
   "metadata": {},
   "outputs": [
    {
     "name": "stdout",
     "output_type": "stream",
     "text": [
      "Accuracy: 96.00%\n"
     ]
    }
   ],
   "source": [
    "predictions, accuracy = PPV_KNeighnors(X, Y, k=1)\n",
    "print(f\"Accuracy: {accuracy * 100:.2f}%\")"
   ]
  },
  {
   "cell_type": "markdown",
   "id": "67f6c994",
   "metadata": {},
   "source": [
    "## k = 2"
   ]
  },
  {
   "cell_type": "code",
   "execution_count": 6,
   "id": "be86ae5c",
   "metadata": {},
   "outputs": [
    {
     "name": "stdout",
     "output_type": "stream",
     "text": [
      "Accuracy: 94.67%\n"
     ]
    }
   ],
   "source": [
    "predictions, accuracy = PPV_KNeighnors(X, Y, k=2)\n",
    "print(f\"Accuracy: {accuracy * 100:.2f}%\")"
   ]
  },
  {
   "cell_type": "markdown",
   "id": "73b659a6",
   "metadata": {},
   "source": [
    "## k = 5"
   ]
  },
  {
   "cell_type": "code",
   "execution_count": 7,
   "id": "23485c75",
   "metadata": {},
   "outputs": [
    {
     "name": "stdout",
     "output_type": "stream",
     "text": [
      "Accuracy: 96.67%\n"
     ]
    }
   ],
   "source": [
    "predictions, accuracy = PPV_KNeighnors(X, Y, k=5)\n",
    "print(f\"Accuracy: {accuracy * 100:.2f}%\")"
   ]
  },
  {
   "cell_type": "markdown",
   "id": "a8c16a17",
   "metadata": {},
   "source": [
    "## k = 10"
   ]
  },
  {
   "cell_type": "code",
   "execution_count": 8,
   "id": "55b966e0",
   "metadata": {},
   "outputs": [
    {
     "name": "stdout",
     "output_type": "stream",
     "text": [
      "Accuracy: 97.33%\n"
     ]
    }
   ],
   "source": [
    "predictions, accuracy = PPV_KNeighnors(X, Y, k=10)\n",
    "print(f\"Accuracy: {accuracy * 100:.2f}%\")"
   ]
  },
  {
   "cell_type": "markdown",
   "id": "79ab9cf0",
   "metadata": {},
   "source": [
    "## k = 20"
   ]
  },
  {
   "cell_type": "code",
   "execution_count": 9,
   "id": "a9d9a650",
   "metadata": {},
   "outputs": [
    {
     "name": "stdout",
     "output_type": "stream",
     "text": [
      "Accuracy: 98.00%\n"
     ]
    }
   ],
   "source": [
    "predictions, accuracy = PPV_KNeighnors(X, Y, k=20)\n",
    "print(f\"Accuracy: {accuracy * 100:.2f}%\")"
   ]
  },
  {
   "cell_type": "markdown",
   "id": "451e23f0",
   "metadata": {},
   "source": [
    "## Question 05"
   ]
  },
  {
   "cell_type": "code",
   "execution_count": 10,
   "id": "50db7903",
   "metadata": {},
   "outputs": [],
   "source": [
    "def PPV_k(X, Y, K):\n",
    "    num_samples = len(X)\n",
    "    predictions = np.zeros(num_samples, dtype=int)\n",
    "\n",
    "    for i in range(num_samples):\n",
    "        # Sélectionner la donnée de test\n",
    "        x_test = X[i]\n",
    "\n",
    "        # Calculer les distances euclidiennes entre la donnée de test et toutes les autres données\n",
    "        distances = euclidean_distances(X, [x_test])\n",
    "        \n",
    "        # Exclure la distance de la donnée de test à elle-même\n",
    "        distances[i] = np.inf\n",
    "        \n",
    "        # Trouver les indices des K plus proches voisins\n",
    "        nearest_neighbor_indices = np.argsort(distances.flatten())[:K]\n",
    "\n",
    "        # Assigner le label de la classe majoritaire parmi les K voisins comme prédiction\n",
    "        k_nearest_labels = Y[nearest_neighbor_indices]\n",
    "        predicted_label = np.argmax(np.bincount(k_nearest_labels))\n",
    "\n",
    "        predictions[i] = predicted_label\n",
    "    \n",
    "    accuracy = np.mean(predictions == Y)\n",
    "    return predictions, accuracy"
   ]
  },
  {
   "cell_type": "code",
   "execution_count": 11,
   "id": "b8705763",
   "metadata": {},
   "outputs": [
    {
     "name": "stdout",
     "output_type": "stream",
     "text": [
      "Accuracy: 96.67%\n"
     ]
    }
   ],
   "source": [
    "predictions, accuracy = PPV_k(X, Y, 5)\n",
    "print(f\"Accuracy: {accuracy * 100:.2f}%\")"
   ]
  },
  {
   "cell_type": "markdown",
   "id": "9e36d696",
   "metadata": {},
   "source": [
    "# Classifieur Bayesien Naïf"
   ]
  },
  {
   "cell_type": "markdown",
   "id": "4c267a5b",
   "metadata": {},
   "source": [
    "## Question 01 - 02 : "
   ]
  },
  {
   "cell_type": "code",
   "execution_count": 12,
   "id": "0b7d078f",
   "metadata": {},
   "outputs": [],
   "source": [
    "def CBN(X, Y):\n",
    "    num_samples = X.shape[0]\n",
    "    num_classes = len(np.unique(Y))\n",
    "\n",
    "    # Calculer les barycentres pour chaque classe\n",
    "    barycenters = np.array([np.mean(X[Y == k], axis=0) for k in range(num_classes)])\n",
    "\n",
    "    # Calculer les probabilités à priori P(ωk)\n",
    "    prior_probabilities = np.array([np.mean(Y == k) for k in range(num_classes)])\n",
    "\n",
    "    predictions = np.zeros(num_samples, dtype=int)\n",
    "\n",
    "    for i in range(num_samples):\n",
    "        x_test = X[i]\n",
    "\n",
    "        # Calculer les distances entre la donnée de test et chaque barycentre\n",
    "        distances = np.linalg.norm(barycenters - x_test, axis=1)\n",
    "\n",
    "        # Calculer les probabilités conditionnelles P(xi/ωk) en utilisant le produit des valeurs\n",
    "        # je ne sais pas comment utiliser nom_d_un_vecteur.prod dans ce cas \n",
    "        conditional_probabilities = np.exp(-distances) / np.sum(np.exp(-distances))\n",
    "\n",
    "        # Calculer la probabilité d'appartenir à chaque classe selon l'équation (1)\n",
    "        probabilities = prior_probabilities * conditional_probabilities\n",
    "\n",
    "        # Sélectionner la classe avec la probabilité maximale comme prédiction\n",
    "        predicted_class = np.argmax(probabilities)\n",
    "        predictions[i] = predicted_class\n",
    "    \n",
    "    accuracy = np.mean(predictions == Y)\n",
    "    return predictions, accuracy"
   ]
  },
  {
   "cell_type": "code",
   "execution_count": 13,
   "id": "bfbcab0d",
   "metadata": {},
   "outputs": [
    {
     "name": "stdout",
     "output_type": "stream",
     "text": [
      "Accuracy: 92.67%\n"
     ]
    }
   ],
   "source": [
    "predictions, accuracy = CBN(X, Y)\n",
    "print(f\"Accuracy: {accuracy * 100:.2f}%\")"
   ]
  },
  {
   "cell_type": "markdown",
   "id": "cf7ffaab",
   "metadata": {},
   "source": [
    "## Question 03 :"
   ]
  },
  {
   "cell_type": "code",
   "execution_count": 14,
   "id": "5c93d313",
   "metadata": {},
   "outputs": [
    {
     "name": "stdout",
     "output_type": "stream",
     "text": [
      "Accuracy: 100.00%\n"
     ]
    }
   ],
   "source": [
    "from sklearn.model_selection import train_test_split\n",
    "from sklearn.naive_bayes import GaussianNB\n",
    "from sklearn import datasets\n",
    "from sklearn.metrics import accuracy_score\n",
    "\n",
    "# Diviser le jeu de données en ensembles d'apprentissage et de test\n",
    "X_train, X_test, Y_train, Y_test = train_test_split(X, Y, test_size=0.2, random_state=42)\n",
    "\n",
    "# Créer un classifieur bayésien naïf gaussien\n",
    "gnb = GaussianNB()\n",
    "\n",
    "# Entraîner le modèle\n",
    "gnb.fit(X_train, Y_train)\n",
    "\n",
    "# Faire des prédictions sur l'ensemble de test\n",
    "predictions = gnb.predict(X_test)\n",
    "\n",
    "# Calculer la précision\n",
    "accuracy = accuracy_score(Y_test, predictions)\n",
    "print(f\"Accuracy: {accuracy * 100:.2f}%\")"
   ]
  },
  {
   "cell_type": "markdown",
   "id": "9898f250",
   "metadata": {},
   "source": [
    "## Question 04 :"
   ]
  },
  {
   "cell_type": "code",
   "execution_count": 15,
   "id": "98e1002c",
   "metadata": {},
   "outputs": [],
   "source": [
    "from scipy.stats import norm\n",
    "\n",
    "def CBN_dist(X, Y):\n",
    "    num_classes = len(np.unique(Y))\n",
    "    num_features = X.shape[1]\n",
    "\n",
    "    # Initialiser les prédictions\n",
    "    predictions = np.zeros(len(X), dtype=int)\n",
    "\n",
    "    for i in range(len(X)):\n",
    "        # Sélectionner la donnée de test\n",
    "        x_test = X[i]\n",
    "\n",
    "        # Initialiser les listes des moyennes et écart-types pour chaque classe et variable\n",
    "        means = np.zeros((num_classes, num_features))\n",
    "        stds = np.zeros((num_classes, num_features))\n",
    "\n",
    "        # Estimer les paramètres (moyennes et écart-types) pour chaque classe et variable\n",
    "        for k in range(num_classes):\n",
    "            class_samples = X[Y == k]\n",
    "            means[k] = np.mean(class_samples, axis=0)\n",
    "            stds[k] = np.std(class_samples, axis=0)\n",
    "\n",
    "        # Calculer les probabilités conditionnelles P(xi/ωk) pour chaque classe et chaque variable\n",
    "        conditional_probs = np.zeros((num_classes, num_features))\n",
    "        for k in range(num_classes):\n",
    "            for j in range(num_features):\n",
    "                conditional_probs[k, j] = norm.pdf(x_test[j], loc=means[k, j], scale=stds[k, j])\n",
    "\n",
    "        # Calculer les probabilités finales pour chaque classe\n",
    "        prior_probs = [np.sum(Y == k) / len(Y) for k in range(num_classes)]\n",
    "        final_probs = prior_probs * conditional_probs.prod(axis=1)\n",
    "\n",
    "        # Assigner la classe la plus probable comme prédiction\n",
    "        predictions[i] = np.argmax(final_probs)\n",
    "    \n",
    "    accuracy = np.mean(predictions == Y)\n",
    "    return predictions, accuracy"
   ]
  },
  {
   "cell_type": "code",
   "execution_count": 16,
   "id": "92a50be6",
   "metadata": {},
   "outputs": [
    {
     "name": "stdout",
     "output_type": "stream",
     "text": [
      "Accuracy: 96.00%\n"
     ]
    }
   ],
   "source": [
    "predictions, accuracy = CBN_dist(X, Y)\n",
    "print(f\"Accuracy: {accuracy * 100:.2f}%\")"
   ]
  }
 ],
 "metadata": {
  "kernelspec": {
   "display_name": "Python 3 (ipykernel)",
   "language": "python",
   "name": "python3"
  },
  "language_info": {
   "codemirror_mode": {
    "name": "ipython",
    "version": 3
   },
   "file_extension": ".py",
   "mimetype": "text/x-python",
   "name": "python",
   "nbconvert_exporter": "python",
   "pygments_lexer": "ipython3",
   "version": "3.11.4"
  }
 },
 "nbformat": 4,
 "nbformat_minor": 5
}
